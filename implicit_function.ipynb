{
 "cells": [
  {
   "cell_type": "code",
   "execution_count": 1,
   "metadata": {},
   "outputs": [],
   "source": [
    "import logging\n",
    "from typing import Tuple\n",
    "\n",
    "import matplotlib.animation as animation\n",
    "import matplotlib.pyplot as plt\n",
    "import numpy as np\n",
    "import torch\n",
    "import tqdm\n",
    "from IPython.display import HTML\n",
    "from omegaconf import OmegaConf\n",
    "from PIL import Image\n",
    "from pytorch3d.implicitron.dataset.dataset_base import FrameData\n",
    "from pytorch3d.implicitron.dataset.rendered_mesh_dataset_map_provider import RenderedMeshDatasetMapProvider\n",
    "from pytorch3d.implicitron.models.generic_model import GenericModel\n",
    "from pytorch3d.implicitron.models.implicit_function.base import ImplicitFunctionBase, ImplicitronRayBundle\n",
    "from pytorch3d.implicitron.models.renderer.base import EvaluationMode\n",
    "from pytorch3d.implicitron.tools.config import get_default_args, registry, remove_unused_components\n",
    "from pytorch3d.renderer.implicit.renderer import VolumeSampler\n",
    "from pytorch3d.structures import Volumes\n",
    "from pytorch3d.vis.plotly_vis import plot_batch_individually, plot_scene\n"
   ]
  },
  {
   "cell_type": "code",
   "execution_count": 2,
   "metadata": {},
   "outputs": [],
   "source": [
    "output_resolution = 256"
   ]
  },
  {
   "cell_type": "code",
   "execution_count": 3,
   "metadata": {},
   "outputs": [],
   "source": [
    "CONSTRUCT_MODEL_FROM_CONFIG = True\n",
    " # constructing GenericModel directly\n",
    "gm = GenericModel(\n",
    "    image_feature_extractor_class_type=\"ResNetFeatureExtractor\",\n",
    "    implicit_function_class_type=\"VoxelGridImplicitFunction\",\n",
    "    render_image_height=output_resolution,\n",
    "    render_image_width=output_resolution,\n",
    "    loss_weights={\"loss_rgb_mse\": 1.0},\n",
    "    tqdm_trigger_threshold=19000,\n",
    "    raysampler_AdaptiveRaySampler_args = {\"scene_extent\": 4.0}\n",
    ")\n",
    "\n",
    "# In this case we can get the equivalent DictConfig cfg object to the way gm is configured as follows\n",
    "cfg = OmegaConf.structured(gm)"
   ]
  },
  {
   "cell_type": "code",
   "execution_count": 8,
   "metadata": {},
   "outputs": [],
   "source": [
    "# We can display the configuration in use as follows.\n",
    "remove_unused_components(cfg)\n",
    "yaml = OmegaConf.to_yaml(cfg, sort_keys=False)\n",
    "# %page -r yaml"
   ]
  },
  {
   "cell_type": "code",
   "execution_count": 9,
   "metadata": {},
   "outputs": [],
   "source": [
    "device = torch.device(\"cuda:0\")\n",
    "gm.to(device)\n",
    "assert next(gm.parameters()).is_cuda\n"
   ]
  },
  {
   "cell_type": "code",
   "execution_count": 10,
   "metadata": {},
   "outputs": [],
   "source": [
    "gm.train()\n",
    "optimizer = torch.optim.Adam(gm.parameters(), lr=0.1)\n"
   ]
  },
  {
   "cell_type": "code",
   "execution_count": 13,
   "metadata": {},
   "outputs": [
    {
     "name": "stdout",
     "output_type": "stream",
     "text": [
      "2392\n",
      "['data/ChestXRLungSegmentation/MELA2022/raw/train/images/mela_0001.nii.gz']\n",
      "15951\n",
      "['data/ChestXRLungSegmentation/ChinaSet/processed/images/CHNCXR_0001_0.png']\n",
      "2392\n",
      "['data/ChestXRLungSegmentation/MELA2022/raw/train/images/mela_0001.nii.gz']\n",
      "3951\n",
      "['data/ChestXRLungSegmentation/ChinaSet/processed/images/CHNCXR_0001_0.png']\n",
      "2392\n",
      "['data/ChestXRLungSegmentation/MELA2022/raw/train/images/mela_0001.nii.gz']\n",
      "3951\n",
      "['data/ChestXRLungSegmentation/ChinaSet/processed/images/CHNCXR_0001_0.png']\n"
     ]
    }
   ],
   "source": [
    "import os\n",
    "from datamodule import UnpairedDataModule\n",
    "datadir = \"data\"\n",
    "# Create data module\n",
    "train_image3d_folders = [\n",
    "    os.path.join(datadir, 'ChestXRLungSegmentation/NSCLC/processed/train/images'),\n",
    "    os.path.join(datadir, 'ChestXRLungSegmentation/MOSMED/processed/train/images/CT-0'),\n",
    "    os.path.join(datadir, 'ChestXRLungSegmentation/MOSMED/processed/train/images/CT-1'),\n",
    "    os.path.join(datadir, 'ChestXRLungSegmentation/MOSMED/processed/train/images/CT-2'),\n",
    "    os.path.join(datadir, 'ChestXRLungSegmentation/MOSMED/processed/train/images/CT-3'),\n",
    "    os.path.join(datadir, 'ChestXRLungSegmentation/MOSMED/processed/train/images/CT-4'),\n",
    "    # os.path.join(datadir, 'ChestXRLungSegmentation/Imagenglab/processed/train/images'),\n",
    "    os.path.join(datadir, 'ChestXRLungSegmentation/MELA2022/raw/train/images'),\n",
    "    os.path.join(datadir, 'ChestXRLungSegmentation/MELA2022/raw/val/images'),\n",
    "]\n",
    "\n",
    "train_label3d_folders = [\n",
    "]\n",
    "\n",
    "train_image2d_folders = [\n",
    "    os.path.join(datadir, 'ChestXRLungSegmentation/JSRT/processed/images/'),\n",
    "    os.path.join(datadir, 'ChestXRLungSegmentation/ChinaSet/processed/images/'),\n",
    "    os.path.join(datadir, 'ChestXRLungSegmentation/Montgomery/processed/images/'),\n",
    "    os.path.join(datadir, 'ChestXRLungSegmentation/VinDr/v1/processed/train/images/'),\n",
    "    # os.path.join(datadir, 'ChestXRLungSegmentation/VinDr/v1/processed/test/images/'),\n",
    "\n",
    "    # os.path.join(datadir, 'SpineXRVertSegmentation/T62020/20200501/raw/images'),\n",
    "    # os.path.join(datadir, 'SpineXRVertSegmentation/T62021/20211101/raw/images'),\n",
    "    # os.path.join(datadir, 'SpineXRVertSegmentation/VinDr/v1/processed/train/images/'),\n",
    "    # # os.path.join(datadir, 'SpineXRVertSegmentation/VinDr/v1/processed/test/images/'),\n",
    "]\n",
    "\n",
    "train_label2d_folders = [\n",
    "]\n",
    "\n",
    "val_image3d_folders = [\n",
    "    os.path.join(datadir, 'ChestXRLungSegmentation/NSCLC/processed/train/images'),\n",
    "    os.path.join(datadir, 'ChestXRLungSegmentation/MOSMED/processed/train/images/CT-0'),\n",
    "    os.path.join(datadir, 'ChestXRLungSegmentation/MOSMED/processed/train/images/CT-1'),\n",
    "    os.path.join(datadir, 'ChestXRLungSegmentation/MOSMED/processed/train/images/CT-2'),\n",
    "    os.path.join(datadir, 'ChestXRLungSegmentation/MOSMED/processed/train/images/CT-3'),\n",
    "    os.path.join(datadir, 'ChestXRLungSegmentation/MOSMED/processed/train/images/CT-4'),\n",
    "    # os.path.join(datadir, 'ChestXRLungSegmentation/Imagenglab/processed/train/images'),\n",
    "    os.path.join(datadir, 'ChestXRLungSegmentation/MELA2022/raw/train/images'),\n",
    "    os.path.join(datadir, 'ChestXRLungSegmentation/MELA2022/raw/val/images'),\n",
    "    # os.path.join(datadir, 'ChestXRLungSegmentation/AMOS2022/raw/train/images'),\n",
    "    # os.path.join(datadir, 'ChestXRLungSegmentation/AMOS2022/raw/val/images'),\n",
    "\n",
    "    # os.path.join(datadir, 'SpineXRVertSegmentation/Verse2019/raw/train/rawdata/'),\n",
    "    # os.path.join(datadir, 'SpineXRVertSegmentation/Verse2020/raw/train/rawdata/'),\n",
    "    # os.path.join(datadir, 'SpineXRVertSegmentation/Verse2019/raw/val/rawdata/'),\n",
    "    # os.path.join(datadir, 'SpineXRVertSegmentation/Verse2020/raw/val/rawdata/'),\n",
    "    # os.path.join(datadir, 'SpineXRVertSegmentation/Verse2019/raw/test/rawdata/'),\n",
    "    # os.path.join(datadir, 'SpineXRVertSegmentation/Verse2020/raw/test/rawdata/'),\n",
    "\n",
    "    # os.path.join(datadir, 'SpineXRVertSegmentation/UWSpine/processed/train/images'),\n",
    "    # os.path.join(datadir, 'SpineXRVertSegmentation/UWSpine/processed/test/images/'),\n",
    "]\n",
    "\n",
    "val_image2d_folders = [\n",
    "    os.path.join(datadir, 'ChestXRLungSegmentation/JSRT/processed/images/'),\n",
    "    os.path.join(datadir, 'ChestXRLungSegmentation/ChinaSet/processed/images/'),\n",
    "    os.path.join(datadir, 'ChestXRLungSegmentation/Montgomery/processed/images/'),\n",
    "    # os.path.join(datadir, 'ChestXRLungSegmentation/VinDr/v1/processed/train/images/'),\n",
    "    os.path.join(datadir, 'ChestXRLungSegmentation/VinDr/v1/processed/test/images/'),\n",
    "    # os.path.join(datadir, 'SpineXRVertSegmentation/T62020/20200501/raw/images'),\n",
    "    # os.path.join(datadir, 'SpineXRVertSegmentation/T62021/20211101/raw/images'),\n",
    "    # # os.path.join(datadir, 'SpineXRVertSegmentation/VinDr/v1/processed/train/images/'),\n",
    "    # os.path.join(datadir, 'SpineXRVertSegmentation/VinDr/v1/processed/test/images/'),\n",
    "]\n",
    "\n",
    "test_image3d_folders = val_image3d_folders\n",
    "test_image2d_folders = val_image2d_folders\n",
    "\n",
    "datamodule = UnpairedDataModule(\n",
    "    train_image3d_folders=train_image3d_folders,\n",
    "    train_image2d_folders=train_image2d_folders,\n",
    "    val_image3d_folders=val_image3d_folders,\n",
    "    val_image2d_folders=val_image2d_folders,\n",
    "    test_image3d_folders=test_image3d_folders,\n",
    "    test_image2d_folders=test_image2d_folders,\n",
    "    train_samples=8,\n",
    "    val_samples=8,\n",
    "    test_samples=8,\n",
    "    batch_size=8,\n",
    "    img_shape=256,\n",
    "    vol_shape=256\n",
    ")\n",
    "datamodule.setup()"
   ]
  },
  {
   "cell_type": "code",
   "execution_count": null,
   "metadata": {},
   "outputs": [],
   "source": [
    "iterator = tqdm.tqdm(range(2000))\n",
    "for n_batch in iterator:\n",
    "    optimizer.zero_grad()\n",
    "\n",
    "    frame = train_data_collated[n_batch % len(dataset_map.train)]\n",
    "    out = gm(**frame, evaluation_mode=EvaluationMode.TRAINING)\n",
    "    out[\"objective\"].backward()\n",
    "    if n_batch % 100 == 0:\n",
    "        iterator.set_postfix_str(f\"loss: {float(out['objective']):.5f}\")\n",
    "    optimizer.step()\n"
   ]
  }
 ],
 "metadata": {
  "kernelspec": {
   "display_name": "py310",
   "language": "python",
   "name": "python3"
  },
  "language_info": {
   "codemirror_mode": {
    "name": "ipython",
    "version": 3
   },
   "file_extension": ".py",
   "mimetype": "text/x-python",
   "name": "python",
   "nbconvert_exporter": "python",
   "pygments_lexer": "ipython3",
   "version": "3.10.10"
  },
  "orig_nbformat": 4
 },
 "nbformat": 4,
 "nbformat_minor": 2
}
